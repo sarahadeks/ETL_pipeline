{
 "cells": [
  {
   "cell_type": "code",
   "execution_count": 1,
   "metadata": {},
   "outputs": [],
   "source": [
    "import pandas as pd"
   ]
  },
  {
   "cell_type": "code",
   "execution_count": 2,
   "metadata": {},
   "outputs": [],
   "source": [
    "import boto3\n",
    "from botocore import UNSIGNED\n",
    "from botocore.client import Config\n",
    "s3 = boto3.client('s3', config=Config(signature_version=UNSIGNED))\n",
    "bucket_name = \"d2b-internal-assessment-bucket\"\n",
    "response = s3.list_objects(Bucket=bucket_name, Prefix=\"orders_data\")\n",
    "# for example to download the orders.csv\n",
    "s3.download_file(bucket_name, \"orders_data/orders.csv\", \"orders.csv\")"
   ]
  },
  {
   "cell_type": "code",
   "execution_count": 3,
   "metadata": {},
   "outputs": [],
   "source": [
    "# to download the reviews.csv\n",
    "s3.download_file(bucket_name, \"orders_data/reviews.csv\",\"reviews.csv\")"
   ]
  },
  {
   "cell_type": "code",
   "execution_count": 4,
   "metadata": {},
   "outputs": [],
   "source": [
    "# to download the shipments_deliveries.csv\n",
    "s3.download_file(bucket_name, \"orders_data/shipment_deliveries.csv\", \"shipments_deliveries.csv\")"
   ]
  },
  {
   "cell_type": "code",
   "execution_count": 5,
   "metadata": {},
   "outputs": [],
   "source": [
    "orders = pd.read_csv(\"orders.csv\")\n",
    "reviews = pd.read_csv(\"reviews.csv\")\n",
    "shipments_deliveries = pd.read_csv(\"shipments_deliveries.csv\")"
   ]
  },
  {
   "cell_type": "code",
   "execution_count": 8,
   "metadata": {},
   "outputs": [
    {
     "name": "stdout",
     "output_type": "stream",
     "text": [
      "Collecting psycopg2\n",
      "  Downloading psycopg2-2.9.5-cp311-cp311-win_amd64.whl (1.2 MB)\n",
      "     ---------------------------------------- 1.2/1.2 MB 622.9 kB/s eta 0:00:00\n",
      "Installing collected packages: psycopg2\n",
      "Successfully installed psycopg2-2.9.5\n",
      "Note: you may need to restart the kernel to use updated packages.\n"
     ]
    },
    {
     "name": "stderr",
     "output_type": "stream",
     "text": [
      "\n",
      "[notice] A new release of pip available: 22.3 -> 22.3.1\n",
      "[notice] To update, run: python.exe -m pip install --upgrade pip\n"
     ]
    }
   ],
   "source": [
    "pip install psycopg2"
   ]
  },
  {
   "cell_type": "code",
   "execution_count": 9,
   "metadata": {},
   "outputs": [],
   "source": [
    "import psycopg2\n",
    "conn = psycopg2.connect(host=\"d2b-internal-assessment-dwh.cxeuj0ektqdz.eu-central-1.rds.amazonaws.com\",\n",
    "                        dbname=\"d2b_assessment\" ,\n",
    "                        user=\"saraadek2085\" ,\n",
    "                        password=\"bXfN6QOf83\",\n",
    "                        options=\"-c search_path=saraadek2085_staging\")\n",
    "cur = conn.cursor()\n",
    "cur.execute(\"DROP TABLE IF EXISTS orders\")\n",
    "cur.execute(\"\"\"CREATE TABLE orders(order_id integer PRIMARY KEY,\n",
    "        customer_id integer NOT NULL,\n",
    "        order_date date NOT NULL,\n",
    "        product_id varchar NOT NULL,\n",
    "        unit_price integer NOT NULL,\n",
    "        quantity integer NOT NULL,\n",
    "        amount int NOT NULL)\n",
    "\"\"\")\n",
    "conn.commit()"
   ]
  },
  {
   "cell_type": "code",
   "execution_count": 10,
   "metadata": {},
   "outputs": [],
   "source": [
    "conn = psycopg2.connect(host=\"d2b-internal-assessment-dwh.cxeuj0ektqdz.eu-central-1.rds.amazonaws.com\",\n",
    "                        dbname=\"d2b_assessment\" ,\n",
    "                        user=\"saraadek2085\" ,\n",
    "                        password=\"bXfN6QOf83\",\n",
    "                        options=\"-c search_path=saraadek2085_staging\")\n",
    "\n",
    "cur =conn.cursor()\n",
    "cur.execute(\"DROP TABLE IF EXISTS shipments_deliveries\")\n",
    "cur.execute(\"\"\"CREATE TABLE shipments_deliveries(shipment_id integer PRIMARY KEY,\n",
    "        order_id integer NOT NULL,\n",
    "        shipment_date date NULL,\n",
    "        delivery_date date NULL)\n",
    "\"\"\")\n",
    "conn.commit()\n"
   ]
  },
  {
   "cell_type": "code",
   "execution_count": 11,
   "metadata": {},
   "outputs": [],
   "source": [
    "conn = psycopg2.connect(host=\"d2b-internal-assessment-dwh.cxeuj0ektqdz.eu-central-1.rds.amazonaws.com\",\n",
    "                        dbname=\"d2b_assessment\" ,\n",
    "                        user=\"saraadek2085\" ,\n",
    "                        password=\"bXfN6QOf83\",\n",
    "                        options=\"-c search_path=saraadek2085_staging\")\n",
    "\n",
    "cur =conn.cursor()\n",
    "cur.execute(\"DROP TABLE IF EXISTS reviews\")\n",
    "cur.execute(\"\"\"CREATE TABLE reviews(review integer NOT NULL,\n",
    "        PRODUCT_id integer NOT NULL)\n",
    "\"\"\")\n",
    "conn.commit()\n"
   ]
  },
  {
   "cell_type": "code",
   "execution_count": 12,
   "metadata": {},
   "outputs": [],
   "source": [
    "conn = psycopg2.connect(host=\"d2b-internal-assessment-dwh.cxeuj0ektqdz.eu-central-1.rds.amazonaws.com\",\n",
    "                        dbname=\"d2b_assessment\" ,\n",
    "                        user=\"saraadek2085\" ,\n",
    "                        password=\"bXfN6QOf83\",\n",
    "                        options=\"-c search_path=saraadek2085_staging\")\n",
    "cur = conn.cursor()\n",
    "with open('orders.csv', 'r') as f:\n",
    "\n",
    "    next(f) \n",
    "    cur.copy_from(f, 'orders', sep=',')\n",
    "\n",
    "conn.commit()"
   ]
  },
  {
   "cell_type": "code",
   "execution_count": 13,
   "metadata": {},
   "outputs": [],
   "source": [
    "conn = psycopg2.connect(host=\"d2b-internal-assessment-dwh.cxeuj0ektqdz.eu-central-1.rds.amazonaws.com\",\n",
    "                        dbname=\"d2b_assessment\" ,\n",
    "                        user=\"saraadek2085\" ,\n",
    "                        password=\"bXfN6QOf83\",\n",
    "                        options=\"-c search_path=saraadek2085_staging\")\n",
    "cur = conn.cursor()\n",
    "with open('reviews.csv', 'r') as f:\n",
    "\n",
    "    next(f) \n",
    "    cur.copy_from(f, 'reviews', sep=',')\n",
    "\n",
    "conn.commit()\n"
   ]
  },
  {
   "cell_type": "code",
   "execution_count": 14,
   "metadata": {},
   "outputs": [],
   "source": [
    "conn = psycopg2.connect(host=\"d2b-internal-assessment-dwh.cxeuj0ektqdz.eu-central-1.rds.amazonaws.com\",\n",
    "                        dbname=\"d2b_assessment\" ,\n",
    "                        user=\"saraadek2085\" ,\n",
    "                        password=\"bXfN6QOf83\",\n",
    "                        options=\"-c search_path=saraadek2085_staging\")\n",
    "cur = conn.cursor()\n",
    "with open('shipments_deliveries.csv', 'r') as f:\n",
    "    # Notice that we don't need the `csv` module.\n",
    "    next(f) # Skip the header row.\n",
    "    cur.copy_from(f, 'shipments_deliveries', sep=',',null = '')\n",
    "\n",
    "conn.commit()"
   ]
  },
  {
   "cell_type": "code",
   "execution_count": null,
   "metadata": {},
   "outputs": [],
   "source": []
  }
 ],
 "metadata": {
  "kernelspec": {
   "display_name": "Python 3.11.0 64-bit",
   "language": "python",
   "name": "python3"
  },
  "language_info": {
   "codemirror_mode": {
    "name": "ipython",
    "version": 3
   },
   "file_extension": ".py",
   "mimetype": "text/x-python",
   "name": "python",
   "nbconvert_exporter": "python",
   "pygments_lexer": "ipython3",
   "version": "3.11.0"
  },
  "orig_nbformat": 4,
  "vscode": {
   "interpreter": {
    "hash": "2c392ab92f8556568a8b1080d0d1e0099fc2f47d452bb80268df2cca54777369"
   }
  }
 },
 "nbformat": 4,
 "nbformat_minor": 2
}
