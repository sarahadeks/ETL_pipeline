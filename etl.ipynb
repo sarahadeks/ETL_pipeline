{
 "cells": [
  {
   "cell_type": "code",
   "execution_count": 1,
   "metadata": {},
   "outputs": [],
   "source": [
    "import pandas as pd"
   ]
  },
  {
   "cell_type": "code",
   "execution_count": 15,
   "metadata": {},
   "outputs": [],
   "source": [
    "from psycopg2 import Error"
   ]
  },
  {
   "cell_type": "code",
   "execution_count": 22,
   "metadata": {},
   "outputs": [],
   "source": [
    "from sqlalchemy import create_engine"
   ]
  },
  {
   "cell_type": "code",
   "execution_count": 3,
   "metadata": {},
   "outputs": [
    {
     "name": "stdout",
     "output_type": "stream",
     "text": [
      "Defaulting to user installation because normal site-packages is not writeable\n",
      "Collecting boto3\n",
      "  Downloading boto3-1.28.1-py3-none-any.whl (135 kB)\n",
      "\u001b[2K     \u001b[90m━━━━━━━━━━━━━━━━━━━━━━━━━━━━━━━━━━━━━\u001b[0m \u001b[32m135.7/135.7 KB\u001b[0m \u001b[31m179.9 kB/s\u001b[0m eta \u001b[36m0:00:00\u001b[0m00:01\u001b[0m00:01\u001b[0m\n",
      "\u001b[?25hCollecting botocore<1.32.0,>=1.31.1\n",
      "  Downloading botocore-1.31.1-py3-none-any.whl (11.0 MB)\n",
      "\u001b[2K     \u001b[90m━━━━━━━━━━━━━━━━━━━━━━━━━━━━━━━━━━━━━━━\u001b[0m \u001b[32m11.0/11.0 MB\u001b[0m \u001b[31m264.9 kB/s\u001b[0m eta \u001b[36m0:00:00\u001b[0m00:01\u001b[0m00:02\u001b[0m�━━━━━━━━━━━━━━━━━━━━━━\u001b[0m\u001b[90m╺\u001b[0m\u001b[90m━━━━━━━━━━━━\u001b[0m \u001b[32m7.5/11.0 MB\u001b[0m \u001b[31m242.2 kB/s\u001b[0m eta \u001b[36m0:00:15\u001b[0m�━━━━━━━━━━━━━━━━━━━━━━\u001b[0m\u001b[91m╸\u001b[0m\u001b[90m━━━━━━━━━━━━\u001b[0m \u001b[32m7.6/11.0 MB\u001b[0m \u001b[31m217.0 kB/s\u001b[0m eta \u001b[36m0:00:16\u001b[0m�━━━━━━━━━━━━━━━━━━━━━━\u001b[0m\u001b[91m╸\u001b[0m\u001b[90m━━━━━━━━━━━━\u001b[0m \u001b[32m7.7/11.0 MB\u001b[0m \u001b[31m204.6 kB/s\u001b[0m eta \u001b[36m0:00:17\u001b[0m\n",
      "\u001b[?25hCollecting jmespath<2.0.0,>=0.7.1\n",
      "  Downloading jmespath-1.0.1-py3-none-any.whl (20 kB)\n",
      "Collecting s3transfer<0.7.0,>=0.6.0\n",
      "  Downloading s3transfer-0.6.1-py3-none-any.whl (79 kB)\n",
      "\u001b[2K     \u001b[90m━━━━━━━━━━━━━━━━━━━━━━━━━━━━━━━━━━━━━━━\u001b[0m \u001b[32m79.8/79.8 KB\u001b[0m \u001b[31m625.0 kB/s\u001b[0m eta \u001b[36m0:00:00\u001b[0ma \u001b[36m0:00:01\u001b[0m\n",
      "\u001b[?25hRequirement already satisfied: urllib3<1.27,>=1.25.4 in /home/opeyemi/.local/lib/python3.10/site-packages (from botocore<1.32.0,>=1.31.1->boto3) (1.26.16)\n",
      "Requirement already satisfied: python-dateutil<3.0.0,>=2.1 in /home/opeyemi/.local/lib/python3.10/site-packages (from botocore<1.32.0,>=1.31.1->boto3) (2.8.2)\n",
      "Requirement already satisfied: six>=1.5 in /usr/lib/python3/dist-packages (from python-dateutil<3.0.0,>=2.1->botocore<1.32.0,>=1.31.1->boto3) (1.16.0)\n",
      "Installing collected packages: jmespath, botocore, s3transfer, boto3\n",
      "Successfully installed boto3-1.28.1 botocore-1.31.1 jmespath-1.0.1 s3transfer-0.6.1\n",
      "Note: you may need to restart the kernel to use updated packages.\n"
     ]
    }
   ],
   "source": [
    "pip install boto3"
   ]
  },
  {
   "cell_type": "code",
   "execution_count": 4,
   "metadata": {},
   "outputs": [],
   "source": [
    "import boto3\n",
    "from botocore import UNSIGNED\n",
    "from botocore.client import Config\n",
    "s3 = boto3.client('s3', config=Config(signature_version=UNSIGNED))\n",
    "bucket_name = \"d2b-internal-assessment-bucket\"\n",
    "response = s3.list_objects(Bucket=bucket_name, Prefix=\"orders_data\")\n",
    "# for example to download the orders.csv\n",
    "s3.download_file(bucket_name, \"orders_data/orders.csv\", \"orders.csv\")"
   ]
  },
  {
   "cell_type": "code",
   "execution_count": 5,
   "metadata": {},
   "outputs": [],
   "source": [
    "# to download the reviews.csv\n",
    "s3.download_file(bucket_name, \"orders_data/reviews.csv\",\"reviews.csv\")"
   ]
  },
  {
   "cell_type": "code",
   "execution_count": 6,
   "metadata": {},
   "outputs": [],
   "source": [
    "# to download the shipments_deliveries.csv\n",
    "s3.download_file(bucket_name, \"orders_data/shipment_deliveries.csv\", \"shipments_deliveries.csv\")"
   ]
  },
  {
   "cell_type": "code",
   "execution_count": 7,
   "metadata": {},
   "outputs": [],
   "source": [
    "orders = pd.read_csv(\"orders.csv\")\n",
    "reviews = pd.read_csv(\"reviews.csv\")\n",
    "shipments_deliveries = pd.read_csv(\"shipments_deliveries.csv\")"
   ]
  },
  {
   "cell_type": "code",
   "execution_count": 8,
   "metadata": {},
   "outputs": [
    {
     "name": "stdout",
     "output_type": "stream",
     "text": [
      "Defaulting to user installation because normal site-packages is not writeable\n",
      "Requirement already satisfied: psycopg2 in /usr/lib/python3/dist-packages (2.9.6)\n",
      "Note: you may need to restart the kernel to use updated packages.\n"
     ]
    }
   ],
   "source": [
    "pip install psycopg2"
   ]
  },
  {
   "cell_type": "code",
   "execution_count": 11,
   "metadata": {},
   "outputs": [
    {
     "name": "stdout",
     "output_type": "stream",
     "text": [
      "Successfully connected to the PostgreSQL database\n"
     ]
    }
   ],
   "source": [
    "try:\n",
    "    # Replace the connection details with your own\n",
    "    connection = psycopg2.connect(\n",
    "        host=\"localhost\",\n",
    "        database=\"autochek_db\",\n",
    "        user=\"auto\",\n",
    "        password=\"auto\"\n",
    "    )\n",
    "    cursor = connection.cursor()\n",
    "    print(\"Successfully connected to the PostgreSQL database\")\n",
    "\n",
    "except (Exception, Error) as e:\n",
    "    print(\"Error while connecting to the PostgreSQL database:\", e)"
   ]
  },
  {
   "cell_type": "code",
   "execution_count": 20,
   "metadata": {},
   "outputs": [
    {
     "name": "stdout",
     "output_type": "stream",
     "text": [
      "Tables created successfully\n"
     ]
    }
   ],
   "source": [
    "# SQL statements to create the tables\n",
    "create_table_queries = [\n",
    "\n",
    "    '''CREATE TABLE IF NOT EXISTS orders(order_id integer PRIMARY KEY,\n",
    "        customer_id integer NOT NULL,\n",
    "        order_date date NOT NULL,\n",
    "        product_id varchar NOT NULL,\n",
    "        unit_price integer NOT NULL,\n",
    "        quantity integer NOT NULL,\n",
    "        amount int NOT NULL)\n",
    "    ''',\n",
    "    '''CREATE TABLE IF NOT EXISTS shipments_deliveries(shipment_id integer PRIMARY KEY,\n",
    "        order_id integer NOT NULL,\n",
    "        shipment_date date NULL,\n",
    "        delivery_date date NULL)\n",
    "    ''',\n",
    "    '''CREATE TABLE IF NOT EXISTS reviews(review integer NOT NULL,\n",
    "        PRODUCT_id integer NOT NULL)\n",
    "    '''\n",
    "]\n",
    "try:\n",
    "    # Execute the create table queries\n",
    "    for query in create_table_queries:\n",
    "        cursor.execute(query)\n",
    "    connection.commit()\n",
    "    print(\"Tables created successfully\")\n",
    "\n",
    "except (Exception, Error) as e:\n",
    "    print(\"Error while creating tables:\", e)\n",
    "connection.commit()"
   ]
  },
  {
   "cell_type": "code",
   "execution_count": 23,
   "metadata": {},
   "outputs": [
    {
     "name": "stdout",
     "output_type": "stream",
     "text": [
      "Data loaded into the tables successfully\n"
     ]
    }
   ],
   "source": [
    "# Create a SQLAlchemy engine using the connection\n",
    "engine = create_engine('postgresql+psycopg2://', creator=lambda: connection)\n",
    "\n",
    "# Use the engine to load data into tables\n",
    "try:\n",
    "    \n",
    "    orders.to_sql('Orders_table', con=engine, if_exists='replace', index=False)\n",
    "    reviews.to_sql('Reviews_table', con=engine, if_exists='replace', index=False)\n",
    "    shipments_deliveries.to_sql('Shipments_Table', con=engine, if_exists='replace', index=False)\n",
    "        \n",
    "    print(\"Data loaded into the tables successfully\")\n",
    "\n",
    "except (Exception, Error) as e:\n",
    "    print(\"Error while loading data into tables:\", e)"
   ]
  },
  {
   "cell_type": "code",
   "execution_count": null,
   "metadata": {},
   "outputs": [],
   "source": []
  }
 ],
 "metadata": {
  "kernelspec": {
   "display_name": "Python 3 (ipykernel)",
   "language": "python",
   "name": "python3"
  },
  "language_info": {
   "codemirror_mode": {
    "name": "ipython",
    "version": 3
   },
   "file_extension": ".py",
   "mimetype": "text/x-python",
   "name": "python",
   "nbconvert_exporter": "python",
   "pygments_lexer": "ipython3",
   "version": "3.10.6"
  },
  "vscode": {
   "interpreter": {
    "hash": "2c392ab92f8556568a8b1080d0d1e0099fc2f47d452bb80268df2cca54777369"
   }
  }
 },
 "nbformat": 4,
 "nbformat_minor": 4
}
